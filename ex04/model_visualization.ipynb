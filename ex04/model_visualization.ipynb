{
 "cells": [
  {
   "cell_type": "markdown",
   "id": "71e96108-bfa6-4f28-a3f4-3002d809b829",
   "metadata": {},
   "source": [
    "# Visualize ResNet18 model graph\n",
    "\n",
    "Install prerequisites:\n",
    "\n",
    "```bash\n",
    "conda install -y graphviz python-graphviz\n",
    "pip install torchlens\n",
    "```"
   ]
  },
  {
   "cell_type": "code",
   "execution_count": null,
   "id": "ae62572d-87c2-4ba0-a65a-8b40f3e34c2a",
   "metadata": {},
   "outputs": [],
   "source": [
    "import torch\n",
    "from torchvision.models import ResNet18_Weights\n",
    "from torchvision import models\n",
    "\n",
    "from torchview import draw_graph\n",
    "import torchlens as tl\n",
    "\n",
    "model: models.resnet.ResNet = models.resnet18(\n",
    "    weights=ResNet18_Weights.IMAGENET1K_V1\n",
    ")\n"
   ]
  },
  {
   "cell_type": "code",
   "execution_count": null,
   "id": "40c63b53-9119-46bd-8f83-ebca609b4867",
   "metadata": {},
   "outputs": [],
   "source": [
    "model_history  = tl.log_forward_pass(\n",
    "    model, torch.zeros((1, 3, 224, 224)),\n",
    "    vis_opt=\"rolled\",\n",
    "    vis_direction=\"topdown\",\n",
    ")\n",
    "print(model_history)\n"
   ]
  },
  {
   "cell_type": "code",
   "execution_count": null,
   "id": "e633717f-d5a7-4719-bdd8-2fbb8ddb1007",
   "metadata": {},
   "outputs": [],
   "source": []
  }
 ],
 "metadata": {
  "kernelspec": {
   "display_name": "Python 3 (ipykernel)",
   "language": "python",
   "name": "python3"
  },
  "language_info": {
   "codemirror_mode": {
    "name": "ipython",
    "version": 3
   },
   "file_extension": ".py",
   "mimetype": "text/x-python",
   "name": "python",
   "nbconvert_exporter": "python",
   "pygments_lexer": "ipython3",
   "version": "3.9.18"
  }
 },
 "nbformat": 4,
 "nbformat_minor": 5
}